{
 "cells": [
  {
   "cell_type": "code",
   "execution_count": 1,
   "id": "c8dabc73",
   "metadata": {},
   "outputs": [],
   "source": [
    "import numpy as np\n",
    "import pandas as pd\n",
    "import tensorflow  as tf"
   ]
  },
  {
   "cell_type": "code",
   "execution_count": 2,
   "id": "981a35ee",
   "metadata": {},
   "outputs": [],
   "source": [
    "images_ds=tf.data.Dataset.list_files(\"images/*/*\", shuffle=False)"
   ]
  },
  {
   "cell_type": "code",
   "execution_count": 3,
   "id": "6528bdd3",
   "metadata": {},
   "outputs": [
    {
     "name": "stdout",
     "output_type": "stream",
     "text": [
      "b'images\\\\cat\\\\cat.1.jpg'\n",
      "b'images\\\\cat\\\\cat.10.jpg'\n",
      "b'images\\\\cat\\\\cat.100.jpg'\n",
      "b'images\\\\cat\\\\cat.101.jpg'\n",
      "b'images\\\\cat\\\\cat.102.jpg'\n"
     ]
    }
   ],
   "source": [
    "for i in images_ds.take(5):\n",
    "    print(i.numpy())"
   ]
  },
  {
   "cell_type": "code",
   "execution_count": 4,
   "id": "036ba1c0",
   "metadata": {},
   "outputs": [
    {
     "data": {
      "text/plain": [
       "492"
      ]
     },
     "execution_count": 4,
     "metadata": {},
     "output_type": "execute_result"
    }
   ],
   "source": [
    "image_count=len(images_ds)\n",
    "image_count"
   ]
  },
  {
   "cell_type": "code",
   "execution_count": 5,
   "id": "0a85eca4",
   "metadata": {},
   "outputs": [
    {
     "name": "stdout",
     "output_type": "stream",
     "text": [
      "b'images\\\\dog\\\\dog.121.jpg'\n",
      "b'images\\\\cat\\\\cat.57.jpg'\n",
      "b'images\\\\cat\\\\cat.189.jpg'\n",
      "b'images\\\\cat\\\\cat.51.jpg'\n",
      "b'images\\\\cat\\\\cat.7.jpg'\n"
     ]
    }
   ],
   "source": [
    "images_ds=images_ds.shuffle(image_count)\n",
    "for i in images_ds.take(5):\n",
    "    print(i.numpy())"
   ]
  },
  {
   "cell_type": "code",
   "execution_count": 6,
   "id": "bc1c896b",
   "metadata": {},
   "outputs": [],
   "source": [
    "class_names=[\"cat\", \"dog\"]"
   ]
  },
  {
   "cell_type": "code",
   "execution_count": 7,
   "id": "f6e2a847",
   "metadata": {},
   "outputs": [],
   "source": [
    "train_size=int(image_count*0.8)"
   ]
  },
  {
   "cell_type": "code",
   "execution_count": 8,
   "id": "96b19d1f",
   "metadata": {},
   "outputs": [],
   "source": [
    "train_set=images_ds.take(train_size)\n",
    "test_set=images_ds.skip(train_size)"
   ]
  },
  {
   "cell_type": "code",
   "execution_count": 9,
   "id": "84e42a44",
   "metadata": {},
   "outputs": [
    {
     "data": {
      "text/plain": [
       "393"
      ]
     },
     "execution_count": 9,
     "metadata": {},
     "output_type": "execute_result"
    }
   ],
   "source": [
    "len(train_set)"
   ]
  },
  {
   "cell_type": "code",
   "execution_count": 10,
   "id": "8359d027",
   "metadata": {},
   "outputs": [
    {
     "data": {
      "text/plain": [
       "99"
      ]
     },
     "execution_count": 10,
     "metadata": {},
     "output_type": "execute_result"
    }
   ],
   "source": [
    "len(test_set)"
   ]
  },
  {
   "cell_type": "code",
   "execution_count": 11,
   "id": "4cd8f1e6",
   "metadata": {},
   "outputs": [],
   "source": [
    "import os\n",
    "def get_label(file_path):\n",
    "#     s=file_path.split(\"\\\\\")[-2]\n",
    "\n",
    "    s=tf.strings.split(file_path, os.path.sep)[-2]\n",
    "    return s"
   ]
  },
  {
   "cell_type": "code",
   "execution_count": 12,
   "id": "cc5f471a",
   "metadata": {},
   "outputs": [
    {
     "name": "stdout",
     "output_type": "stream",
     "text": [
      "b'dog'\n"
     ]
    }
   ],
   "source": [
    "print(get_label('images\\\\dog\\\\dog.121.jpg').numpy())"
   ]
  },
  {
   "cell_type": "code",
   "execution_count": 13,
   "id": "768f697b",
   "metadata": {},
   "outputs": [],
   "source": [
    "def process_image(file_path):\n",
    "    label=get_label(file_path)\n",
    "    img=tf.io.read_file(file_path)\n",
    "    img=tf.image.decode_jpeg(img)\n",
    "    img=tf.image.resize(img, [128,128])\n",
    "    return img, label\n"
   ]
  },
  {
   "cell_type": "code",
   "execution_count": 14,
   "id": "a77d138c",
   "metadata": {},
   "outputs": [
    {
     "data": {
      "text/plain": [
       "(<tf.Tensor: shape=(128, 128, 3), dtype=float32, numpy=\n",
       " array([[[136.89307 , 133.34619 , 119.98682 ],\n",
       "         [104.057495,  97.057495,  78.987305],\n",
       "         [135.97119 , 133.39868 , 114.71619 ],\n",
       "         ...,\n",
       "         [162.76343 , 169.5603  , 167.0503  ],\n",
       "         [175.8822  , 179.47583 , 186.1637  ],\n",
       "         [172.91125 , 186.03113 , 186.22644 ]],\n",
       " \n",
       "        [[ 97.51538 , 100.53088 ,  86.6637  ],\n",
       "         [ 97.07556 ,  94.90369 ,  76.770874],\n",
       "         [144.98193 , 144.51318 , 125.04443 ],\n",
       "         ...,\n",
       "         [164.13696 , 170.87854 , 160.14722 ],\n",
       "         [177.34521 , 181.51709 , 174.72803 ],\n",
       "         [172.65674 , 181.24268 , 173.7583  ]],\n",
       " \n",
       "        [[127.70068 , 138.74756 , 123.79224 ],\n",
       "         [141.85046 , 144.17859 , 125.49768 ],\n",
       "         [157.34875 , 156.34875 , 135.60815 ],\n",
       "         ...,\n",
       "         [133.74695 , 138.71729 , 117.2251  ],\n",
       "         [140.15503 , 144.13159 , 120.99097 ],\n",
       "         [128.50879 , 131.4469  , 114.3916  ]],\n",
       " \n",
       "        ...,\n",
       " \n",
       "        [[160.81677 , 144.81677 , 111.793335],\n",
       "         [131.46729 , 114.71008 ,  78.64636 ],\n",
       "         [145.36096 , 130.31409 ,  87.31409 ],\n",
       "         ...,\n",
       "         [120.13147 , 109.13147 , 103.13147 ],\n",
       "         [118.9032  , 108.9032  ,  99.9032  ],\n",
       "         [124.93555 , 110.94617 , 107.91431 ]],\n",
       " \n",
       "        [[118.24817 , 103.83411 ,  69.66223 ],\n",
       "         [143.94714 , 132.70496 ,  97.970215],\n",
       "         [170.49951 , 157.62573 , 117.39856 ],\n",
       "         ...,\n",
       "         [120.36658 , 109.36658 , 103.36658 ],\n",
       "         [120.25    , 110.25    , 101.25    ],\n",
       "         [108.99939 ,  95.77295 ,  89.921265]],\n",
       " \n",
       "        [[174.41394 , 162.276   , 118.38269 ],\n",
       "         [146.95251 , 141.95251 , 102.42102 ],\n",
       "         [135.89697 , 126.38696 ,  85.509155],\n",
       "         ...,\n",
       "         [109.5625  ,  98.5625  ,  92.5625  ],\n",
       "         [109.09363 ,  99.09363 ,  90.09363 ],\n",
       "         [112.90906 , 100.468994,  89.789185]]], dtype=float32)>,\n",
       " <tf.Tensor: shape=(), dtype=string, numpy=b'dog'>)"
      ]
     },
     "execution_count": 14,
     "metadata": {},
     "output_type": "execute_result"
    }
   ],
   "source": [
    "process_image('images\\\\dog\\\\dog.121.jpg')"
   ]
  },
  {
   "cell_type": "code",
   "execution_count": 15,
   "id": "150d9bf0",
   "metadata": {},
   "outputs": [],
   "source": [
    "train_set=train_set.map(process_image)"
   ]
  },
  {
   "cell_type": "code",
   "execution_count": 16,
   "id": "e22faf3b",
   "metadata": {},
   "outputs": [],
   "source": [
    "def scale_image(image, label):\n",
    "    return image/255, label\n",
    "    "
   ]
  },
  {
   "cell_type": "code",
   "execution_count": 17,
   "id": "1275905c",
   "metadata": {},
   "outputs": [],
   "source": [
    "train_set=train_set.map(scale_image)"
   ]
  },
  {
   "cell_type": "code",
   "execution_count": 18,
   "id": "5bb0f0e4",
   "metadata": {},
   "outputs": [],
   "source": [
    "test_set=test_set.map(process_image).map(scale_image)"
   ]
  },
  {
   "cell_type": "code",
   "execution_count": 19,
   "id": "06e46272",
   "metadata": {},
   "outputs": [
    {
     "name": "stdout",
     "output_type": "stream",
     "text": [
      "Image: tf.Tensor(\n",
      "[[[0.2982709  0.3374866  0.3727807 ]\n",
      "  [0.23920994 0.29803348 0.32548445]\n",
      "  [0.29950023 0.3661669  0.39361787]\n",
      "  ...\n",
      "  [0.2435317  0.35333562 0.4082376 ]\n",
      "  [0.2586933  0.36849725 0.4233992 ]\n",
      "  [0.16785194 0.27765587 0.33255783]]\n",
      "\n",
      " [[0.35808057 0.39729625 0.43259037]\n",
      "  [0.37198988 0.43081343 0.4582644 ]\n",
      "  [0.30458793 0.3712546  0.39870557]\n",
      "  ...\n",
      "  [0.33587432 0.44567823 0.5005802 ]\n",
      "  [0.27943283 0.38923675 0.4441387 ]\n",
      "  [0.26552734 0.37533125 0.43023324]]\n",
      "\n",
      " [[0.4471584  0.48637408 0.5216682 ]\n",
      "  [0.37431258 0.4331361  0.46058708]\n",
      "  [0.37481618 0.44148284 0.46893382]\n",
      "  ...\n",
      "  [0.41228744 0.5220914  0.57699335]\n",
      "  [0.33460096 0.44440487 0.49930683]\n",
      "  [0.28455308 0.394357   0.44925895]]\n",
      "\n",
      " ...\n",
      "\n",
      " [[0.         0.         0.        ]\n",
      "  [0.         0.         0.        ]\n",
      "  [0.         0.         0.        ]\n",
      "  ...\n",
      "  [0.02432598 0.05177696 0.02432598]\n",
      "  [0.02432598 0.05177696 0.02432598]\n",
      "  [0.02432598 0.05177696 0.02432598]]\n",
      "\n",
      " [[0.         0.         0.        ]\n",
      "  [0.         0.         0.        ]\n",
      "  [0.         0.         0.        ]\n",
      "  ...\n",
      "  [0.01568628 0.04313726 0.01568628]\n",
      "  [0.01568628 0.04313726 0.01568628]\n",
      "  [0.01568628 0.04313726 0.01568628]]\n",
      "\n",
      " [[0.         0.         0.        ]\n",
      "  [0.         0.         0.        ]\n",
      "  [0.         0.         0.        ]\n",
      "  ...\n",
      "  [0.02708333 0.04742647 0.02352941]\n",
      "  [0.02352941 0.05098039 0.02352941]\n",
      "  [0.01568628 0.05490196 0.02352941]]], shape=(128, 128, 3), dtype=float32)\n",
      "Label:  tf.Tensor(b'dog', shape=(), dtype=string)\n",
      "Image: tf.Tensor(\n",
      "[[[0.15601124 0.1599328  0.14032497]\n",
      "  [0.10335849 0.10728006 0.08767221]\n",
      "  [0.11026133 0.1141829  0.09457505]\n",
      "  ...\n",
      "  [0.04322971 0.04715127 0.02362186]\n",
      "  [0.03094943 0.034871   0.01134159]\n",
      "  [0.05255187 0.05647344 0.03294402]]\n",
      "\n",
      " [[0.11685001 0.12077158 0.10116374]\n",
      "  [0.12029234 0.1242139  0.10460606]\n",
      "  [0.08817887 0.09210043 0.07249259]\n",
      "  ...\n",
      "  [0.05680308 0.06072465 0.03719524]\n",
      "  [0.05565257 0.05957414 0.03604473]\n",
      "  [0.06836123 0.0722828  0.04875339]]\n",
      "\n",
      " [[0.11290983 0.1168314  0.09722356]\n",
      "  [0.08510144 0.08902301 0.06941517]\n",
      "  [0.06780665 0.07172821 0.05212037]\n",
      "  ...\n",
      "  [0.06959522 0.07351679 0.04998738]\n",
      "  [0.1069087  0.11083027 0.08730086]\n",
      "  [0.06744792 0.07136948 0.04784007]]\n",
      "\n",
      " ...\n",
      "\n",
      " [[0.32956278 0.23752902 0.17587046]\n",
      "  [0.282981   0.20513335 0.16421245]\n",
      "  [0.28661877 0.22781594 0.19039252]\n",
      "  ...\n",
      "  [0.60487854 0.46666852 0.4214353 ]\n",
      "  [0.37145188 0.14300035 0.15148848]\n",
      "  [0.39552858 0.06182867 0.117879  ]]\n",
      "\n",
      " [[0.306026   0.22111487 0.18798068]\n",
      "  [0.26500806 0.19578318 0.1565675 ]\n",
      "  [0.25312823 0.20606941 0.15901059]\n",
      "  ...\n",
      "  [0.59457314 0.49394345 0.4234165 ]\n",
      "  [0.45441756 0.29675406 0.27678066]\n",
      "  [0.54055214 0.26736924 0.29255307]]\n",
      "\n",
      " [[0.25488293 0.16997178 0.14468072]\n",
      "  [0.24196933 0.17018624 0.1413719 ]\n",
      "  [0.21436109 0.1633807  0.12808658]\n",
      "  ...\n",
      "  [0.64584434 0.56260455 0.47956172]\n",
      "  [0.49726126 0.34997055 0.31920704]\n",
      "  [0.5076567  0.28465444 0.2705888 ]]], shape=(128, 128, 3), dtype=float32)\n",
      "Label:  tf.Tensor(b'cat', shape=(), dtype=string)\n",
      "Image: tf.Tensor(\n",
      "[[[1.02787994e-01 2.07475483e-01 1.53768376e-01]\n",
      "  [6.93474263e-02 1.90242037e-01 1.27328426e-01]\n",
      "  [4.63082120e-02 9.54197273e-02 3.94914225e-02]\n",
      "  ...\n",
      "  [3.04424204e-02 2.37810686e-01 6.00827217e-01]\n",
      "  [9.21511164e-05 2.14077815e-01 6.17662370e-01]\n",
      "  [1.96078438e-02 2.20971197e-01 6.67861521e-01]]\n",
      "\n",
      " [[1.08486518e-01 2.13174015e-01 1.59466907e-01]\n",
      "  [7.79258609e-02 1.98820472e-01 1.35906860e-01]\n",
      "  [7.07720593e-02 1.19883582e-01 6.39552698e-02]\n",
      "  ...\n",
      "  [2.72812787e-02 2.11855426e-01 5.79180777e-01]\n",
      "  [1.26079489e-02 2.20451087e-01 6.27957225e-01]\n",
      "  [3.01317405e-02 2.49647915e-01 6.99494481e-01]]\n",
      "\n",
      " [[9.95962098e-02 2.04283714e-01 1.50576606e-01]\n",
      "  [7.18761981e-02 1.92770809e-01 1.29857197e-01]\n",
      "  [5.80544882e-02 1.07166007e-01 5.12376986e-02]\n",
      "  ...\n",
      "  [1.34988222e-02 1.98556945e-01 5.84261775e-01]\n",
      "  [2.47491582e-04 2.25399479e-01 6.43797159e-01]\n",
      "  [6.76102005e-03 2.87509799e-01 7.21400142e-01]]\n",
      "\n",
      " ...\n",
      "\n",
      " [[4.24743891e-01 4.48952824e-01 2.70644009e-01]\n",
      "  [4.66835171e-01 4.85433191e-01 2.85051405e-01]\n",
      "  [4.33658123e-01 4.48318064e-01 2.13207766e-01]\n",
      "  ...\n",
      "  [1.57687083e-01 1.79604918e-01 1.02454334e-01]\n",
      "  [1.44333303e-01 1.78585753e-01 9.62328166e-02]\n",
      "  [1.68825403e-01 2.03077853e-01 1.20724909e-01]]\n",
      "\n",
      " [[3.80958945e-01 4.00566787e-01 1.78661153e-01]\n",
      "  [4.35296983e-01 4.49250102e-01 2.20804125e-01]\n",
      "  [4.94561881e-01 4.98483449e-01 2.71032482e-01]\n",
      "  ...\n",
      "  [1.48192406e-01 1.80591300e-01 9.24479142e-02]\n",
      "  [1.43887147e-01 1.86718032e-01 1.01852834e-01]\n",
      "  [1.01255886e-01 1.44086763e-01 5.92215732e-02]]\n",
      "\n",
      " [[4.61871922e-01 4.92907465e-01 2.51302093e-01]\n",
      "  [4.70711023e-01 4.47181612e-01 2.43260041e-01]\n",
      "  [4.28012252e-01 4.62096214e-01 2.30907485e-01]\n",
      "  ...\n",
      "  [1.04188688e-01 1.52273864e-01 5.40508181e-02]\n",
      "  [1.56127453e-01 2.11029410e-01 1.12821691e-01]\n",
      "  [1.44362748e-01 1.75735295e-01 1.22028187e-01]]], shape=(128, 128, 3), dtype=float32)\n",
      "Label:  tf.Tensor(b'dog', shape=(), dtype=string)\n"
     ]
    }
   ],
   "source": [
    "for img, label in test_set.take(3):\n",
    "    print(\"Image:\",img)\n",
    "    print(\"Label: \", label)\n",
    "    "
   ]
  },
  {
   "cell_type": "code",
   "execution_count": 20,
   "id": "97cad70a",
   "metadata": {},
   "outputs": [],
   "source": [
    "from tensorflow import keras\n",
    "from tensorflow.keras import models, layers"
   ]
  },
  {
   "cell_type": "code",
   "execution_count": 21,
   "id": "500befb2",
   "metadata": {},
   "outputs": [],
   "source": [
    "cnn=models.Sequential([\n",
    "    layers.Conv2D(filters=32, kernel_size=3, input_shape=(128, 128, 3), activation=\"relu\"),\n",
    "    layers.MaxPool2D(pool_size=2, strides=2),\n",
    "    layers.Conv2D(filters=32, kernel_size=3, activation=\"relu\"),\n",
    "    layers.MaxPool2D(pool_size=2, strides=2),\n",
    "    layers.Flatten(),\n",
    "    layers.Dense(units=100, activation=\"relu\"),\n",
    "    layers.Dropout(0.5),\n",
    "    layers.Dense(units=50, activation=\"relu\"),\n",
    "    layers.Dropout(0.5),\n",
    "    layers.Dense(units=1, activation=\"sigmoid\")\n",
    "])"
   ]
  },
  {
   "cell_type": "code",
   "execution_count": 22,
   "id": "6a26b0df",
   "metadata": {},
   "outputs": [],
   "source": [
    "cnn.compile(optimizer=\"adam\", loss=\"binary_crossentropy\", metrics=[\"accuracy\"])"
   ]
  },
  {
   "cell_type": "code",
   "execution_count": 23,
   "id": "b5e4db03",
   "metadata": {},
   "outputs": [],
   "source": [
    "def classifier(text):\n",
    "    if b'cat' in text:\n",
    "        return 0\n",
    "    else:\n",
    "        return 1"
   ]
  },
  {
   "cell_type": "code",
   "execution_count": 24,
   "id": "c567ef67",
   "metadata": {},
   "outputs": [],
   "source": [
    "x_train, y_train=[], []\n",
    "for img , label in train_set:\n",
    "    x_train.append(img)\n",
    "    y_train.append(classifier(label.numpy()))"
   ]
  },
  {
   "cell_type": "code",
   "execution_count": 25,
   "id": "879989f8",
   "metadata": {},
   "outputs": [
    {
     "data": {
      "text/plain": [
       "[0, 0, 1, 0, 1]"
      ]
     },
     "execution_count": 25,
     "metadata": {},
     "output_type": "execute_result"
    }
   ],
   "source": [
    "y_train[:5]"
   ]
  },
  {
   "cell_type": "code",
   "execution_count": 26,
   "id": "ab928461",
   "metadata": {},
   "outputs": [],
   "source": [
    "x_test, y_test=[],[]\n",
    "for img , label in test_set:\n",
    "    x_test.append(img)\n",
    "    y_test.append(classifier(label.numpy()))"
   ]
  },
  {
   "cell_type": "code",
   "execution_count": 27,
   "id": "68cb1358",
   "metadata": {},
   "outputs": [
    {
     "data": {
      "text/plain": [
       "[1, 1, 0, 0, 1]"
      ]
     },
     "execution_count": 27,
     "metadata": {},
     "output_type": "execute_result"
    }
   ],
   "source": [
    "y_test[:5]"
   ]
  },
  {
   "cell_type": "code",
   "execution_count": 28,
   "id": "b6d1968a",
   "metadata": {},
   "outputs": [],
   "source": [
    "x_train=np.asarray(x_train)\n",
    "x_test=np.asarray(x_test)\n",
    "y_train=np.asarray(y_train)\n",
    "y_test=np.asarray(y_test)"
   ]
  },
  {
   "cell_type": "code",
   "execution_count": 29,
   "id": "2ae0b4f6",
   "metadata": {},
   "outputs": [
    {
     "name": "stdout",
     "output_type": "stream",
     "text": [
      "Epoch 1/15\n",
      "13/13 [==============================] - 9s 393ms/step - loss: 0.8636 - accuracy: 0.5369\n",
      "Epoch 2/15\n",
      "13/13 [==============================] - 5s 386ms/step - loss: 0.6953 - accuracy: 0.5115\n",
      "Epoch 3/15\n",
      "13/13 [==============================] - 6s 441ms/step - loss: 0.6897 - accuracy: 0.5649\n",
      "Epoch 4/15\n",
      "13/13 [==============================] - 6s 440ms/step - loss: 0.6873 - accuracy: 0.5318\n",
      "Epoch 5/15\n",
      "13/13 [==============================] - 6s 427ms/step - loss: 0.6879 - accuracy: 0.5267\n",
      "Epoch 6/15\n",
      "13/13 [==============================] - 6s 485ms/step - loss: 0.6642 - accuracy: 0.6132\n",
      "Epoch 7/15\n",
      "13/13 [==============================] - 5s 416ms/step - loss: 0.6595 - accuracy: 0.6260\n",
      "Epoch 8/15\n",
      "13/13 [==============================] - 5s 408ms/step - loss: 0.6100 - accuracy: 0.6514\n",
      "Epoch 9/15\n",
      "13/13 [==============================] - 5s 400ms/step - loss: 0.5756 - accuracy: 0.7328\n",
      "Epoch 10/15\n",
      "13/13 [==============================] - 5s 378ms/step - loss: 0.4895 - accuracy: 0.8142\n",
      "Epoch 11/15\n",
      "13/13 [==============================] - 5s 369ms/step - loss: 0.4458 - accuracy: 0.7888\n",
      "Epoch 12/15\n",
      "13/13 [==============================] - 5s 372ms/step - loss: 0.4235 - accuracy: 0.8219\n",
      "Epoch 13/15\n",
      "13/13 [==============================] - 5s 367ms/step - loss: 0.3449 - accuracy: 0.8804\n",
      "Epoch 14/15\n",
      "13/13 [==============================] - 5s 394ms/step - loss: 0.2395 - accuracy: 0.9033\n",
      "Epoch 15/15\n",
      "13/13 [==============================] - 5s 347ms/step - loss: 0.2787 - accuracy: 0.9135\n"
     ]
    },
    {
     "data": {
      "text/plain": [
       "<keras.callbacks.History at 0x2aa772a32b0>"
      ]
     },
     "execution_count": 29,
     "metadata": {},
     "output_type": "execute_result"
    }
   ],
   "source": [
    "cnn.fit(x_train, y_train , epochs=15)"
   ]
  },
  {
   "cell_type": "code",
   "execution_count": 32,
   "id": "717d860f",
   "metadata": {},
   "outputs": [
    {
     "name": "stdout",
     "output_type": "stream",
     "text": [
      "4/4 [==============================] - 0s 54ms/step\n"
     ]
    }
   ],
   "source": [
    "y_pre= cnn.predict(x_test)"
   ]
  },
  {
   "cell_type": "code",
   "execution_count": 33,
   "id": "2febd56e",
   "metadata": {},
   "outputs": [
    {
     "data": {
      "text/plain": [
       "array([[0.8004052 ],\n",
       "       [0.99701256],\n",
       "       [0.46241423],\n",
       "       [0.2807061 ],\n",
       "       [0.9687217 ]], dtype=float32)"
      ]
     },
     "execution_count": 33,
     "metadata": {},
     "output_type": "execute_result"
    }
   ],
   "source": [
    "y_pre[:5]"
   ]
  },
  {
   "cell_type": "code",
   "execution_count": 34,
   "id": "f3622852",
   "metadata": {},
   "outputs": [],
   "source": [
    "y_pred=[]\n",
    "for i in y_pre:\n",
    "    if i>0.5:\n",
    "        y_pred.append(1)\n",
    "    else:\n",
    "        y_pred.append(0)"
   ]
  },
  {
   "cell_type": "code",
   "execution_count": 35,
   "id": "783ea153",
   "metadata": {},
   "outputs": [
    {
     "name": "stdout",
     "output_type": "stream",
     "text": [
      "              precision    recall  f1-score   support\n",
      "\n",
      "           0       0.94      0.92      0.93        52\n",
      "           1       0.92      0.94      0.93        47\n",
      "\n",
      "    accuracy                           0.93        99\n",
      "   macro avg       0.93      0.93      0.93        99\n",
      "weighted avg       0.93      0.93      0.93        99\n",
      "\n"
     ]
    }
   ],
   "source": [
    "from sklearn.metrics import classification_report \n",
    "print(classification_report(y_test, y_pred))"
   ]
  },
  {
   "cell_type": "code",
   "execution_count": null,
   "id": "1f30e671",
   "metadata": {},
   "outputs": [],
   "source": []
  }
 ],
 "metadata": {
  "kernelspec": {
   "display_name": "Python 3 (ipykernel)",
   "language": "python",
   "name": "python3"
  },
  "language_info": {
   "codemirror_mode": {
    "name": "ipython",
    "version": 3
   },
   "file_extension": ".py",
   "mimetype": "text/x-python",
   "name": "python",
   "nbconvert_exporter": "python",
   "pygments_lexer": "ipython3",
   "version": "3.10.5"
  }
 },
 "nbformat": 4,
 "nbformat_minor": 5
}
