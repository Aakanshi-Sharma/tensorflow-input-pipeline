{
 "cells": [
  {
   "cell_type": "code",
   "execution_count": 1,
   "id": "c8dabc73",
   "metadata": {},
   "outputs": [],
   "source": [
    "import numpy as np\n",
    "import pandas as pd\n",
    "import tensorflow  as tf"
   ]
  },
  {
   "cell_type": "code",
   "execution_count": 2,
   "id": "98f1ab81",
   "metadata": {},
   "outputs": [],
   "source": [
    "images_ds=tf.data.Dataset.list_files(\"images/*/*\", shuffle=False)"
   ]
  },
  {
   "cell_type": "code",
   "execution_count": 3,
   "id": "519367de",
   "metadata": {},
   "outputs": [
    {
     "name": "stdout",
     "output_type": "stream",
     "text": [
      "b'images\\\\cat\\\\cat.1.jpg'\n",
      "b'images\\\\cat\\\\cat.10.jpg'\n",
      "b'images\\\\cat\\\\cat.100.jpg'\n",
      "b'images\\\\cat\\\\cat.101.jpg'\n",
      "b'images\\\\cat\\\\cat.102.jpg'\n"
     ]
    }
   ],
   "source": [
    "for i in images_ds.take(5):\n",
    "    print(i.numpy())"
   ]
  },
  {
   "cell_type": "code",
   "execution_count": 4,
   "id": "8ce99c0f",
   "metadata": {},
   "outputs": [
    {
     "data": {
      "text/plain": [
       "360"
      ]
     },
     "execution_count": 4,
     "metadata": {},
     "output_type": "execute_result"
    }
   ],
   "source": [
    "image_count=len(images_ds)\n",
    "image_count"
   ]
  },
  {
   "cell_type": "code",
   "execution_count": 5,
   "id": "a981af49",
   "metadata": {},
   "outputs": [
    {
     "name": "stdout",
     "output_type": "stream",
     "text": [
      "b'images\\\\dog\\\\dog.121.jpg'\n",
      "b'images\\\\dog\\\\dog.4.jpg'\n",
      "b'images\\\\dog\\\\dog.147.jpg'\n",
      "b'images\\\\dog\\\\dog.93.jpg'\n",
      "b'images\\\\dog\\\\dog.179.jpg'\n"
     ]
    }
   ],
   "source": [
    "images_ds=images_ds.shuffle(image_count)\n",
    "for i in images_ds.take(5):\n",
    "    print(i.numpy())"
   ]
  },
  {
   "cell_type": "code",
   "execution_count": 6,
   "id": "bc62bdfc",
   "metadata": {},
   "outputs": [],
   "source": [
    "class_names=[\"cat\", \"dog\"]"
   ]
  },
  {
   "cell_type": "code",
   "execution_count": 7,
   "id": "6effcf8a",
   "metadata": {},
   "outputs": [],
   "source": [
    "train_size=int(image_count*0.8)"
   ]
  },
  {
   "cell_type": "code",
   "execution_count": 8,
   "id": "7a852e98",
   "metadata": {},
   "outputs": [],
   "source": [
    "train_set=images_ds.take(train_size)\n",
    "test_set=images_ds.skip(train_size)"
   ]
  },
  {
   "cell_type": "code",
   "execution_count": 9,
   "id": "43c9a1a1",
   "metadata": {},
   "outputs": [
    {
     "data": {
      "text/plain": [
       "288"
      ]
     },
     "execution_count": 9,
     "metadata": {},
     "output_type": "execute_result"
    }
   ],
   "source": [
    "len(train_set)"
   ]
  },
  {
   "cell_type": "code",
   "execution_count": 10,
   "id": "8991a83c",
   "metadata": {},
   "outputs": [
    {
     "data": {
      "text/plain": [
       "72"
      ]
     },
     "execution_count": 10,
     "metadata": {},
     "output_type": "execute_result"
    }
   ],
   "source": [
    "len(test_set)"
   ]
  },
  {
   "cell_type": "code",
   "execution_count": 13,
   "id": "be0fb761",
   "metadata": {},
   "outputs": [],
   "source": [
    "import os\n",
    "def get_label(file_path):\n",
    "#     s=file_path.split(\"\\\\\")[-2]\n",
    "\n",
    "    s=tf.strings.split(file_path, os.path.sep)[-2]\n",
    "    return s"
   ]
  },
  {
   "cell_type": "code",
   "execution_count": 17,
   "id": "d6d2e737",
   "metadata": {},
   "outputs": [
    {
     "name": "stdout",
     "output_type": "stream",
     "text": [
      "b'dog'\n"
     ]
    }
   ],
   "source": [
    "print(get_label('images\\\\dog\\\\dog.121.jpg').numpy())"
   ]
  },
  {
   "cell_type": "code",
   "execution_count": 29,
   "id": "6a7d6b1f",
   "metadata": {},
   "outputs": [],
   "source": [
    "def process_image(file_path):\n",
    "    label=get_label(file_path)\n",
    "    img=tf.io.read_file(file_path)\n",
    "    img=tf.image.decode_jpeg(img)\n",
    "    img=tf.image.resize(img, [128,128])\n",
    "    return img, label\n"
   ]
  },
  {
   "cell_type": "code",
   "execution_count": 30,
   "id": "bdd31aef",
   "metadata": {},
   "outputs": [
    {
     "data": {
      "text/plain": [
       "(<tf.Tensor: shape=(128, 128, 3), dtype=float32, numpy=\n",
       " array([[[136.89307 , 133.34619 , 119.98682 ],\n",
       "         [104.057495,  97.057495,  78.987305],\n",
       "         [135.97119 , 133.39868 , 114.71619 ],\n",
       "         ...,\n",
       "         [162.76343 , 169.5603  , 167.0503  ],\n",
       "         [175.8822  , 179.47583 , 186.1637  ],\n",
       "         [172.91125 , 186.03113 , 186.22644 ]],\n",
       " \n",
       "        [[ 97.51538 , 100.53088 ,  86.6637  ],\n",
       "         [ 97.07556 ,  94.90369 ,  76.770874],\n",
       "         [144.98193 , 144.51318 , 125.04443 ],\n",
       "         ...,\n",
       "         [164.13696 , 170.87854 , 160.14722 ],\n",
       "         [177.34521 , 181.51709 , 174.72803 ],\n",
       "         [172.65674 , 181.24268 , 173.7583  ]],\n",
       " \n",
       "        [[127.70068 , 138.74756 , 123.79224 ],\n",
       "         [141.85046 , 144.17859 , 125.49768 ],\n",
       "         [157.34875 , 156.34875 , 135.60815 ],\n",
       "         ...,\n",
       "         [133.74695 , 138.71729 , 117.2251  ],\n",
       "         [140.15503 , 144.13159 , 120.99097 ],\n",
       "         [128.50879 , 131.4469  , 114.3916  ]],\n",
       " \n",
       "        ...,\n",
       " \n",
       "        [[160.81677 , 144.81677 , 111.793335],\n",
       "         [131.46729 , 114.71008 ,  78.64636 ],\n",
       "         [145.36096 , 130.31409 ,  87.31409 ],\n",
       "         ...,\n",
       "         [120.13147 , 109.13147 , 103.13147 ],\n",
       "         [118.9032  , 108.9032  ,  99.9032  ],\n",
       "         [124.93555 , 110.94617 , 107.91431 ]],\n",
       " \n",
       "        [[118.24817 , 103.83411 ,  69.66223 ],\n",
       "         [143.94714 , 132.70496 ,  97.970215],\n",
       "         [170.49951 , 157.62573 , 117.39856 ],\n",
       "         ...,\n",
       "         [120.36658 , 109.36658 , 103.36658 ],\n",
       "         [120.25    , 110.25    , 101.25    ],\n",
       "         [108.99939 ,  95.77295 ,  89.921265]],\n",
       " \n",
       "        [[174.41394 , 162.276   , 118.38269 ],\n",
       "         [146.95251 , 141.95251 , 102.42102 ],\n",
       "         [135.89697 , 126.38696 ,  85.509155],\n",
       "         ...,\n",
       "         [109.5625  ,  98.5625  ,  92.5625  ],\n",
       "         [109.09363 ,  99.09363 ,  90.09363 ],\n",
       "         [112.90906 , 100.468994,  89.789185]]], dtype=float32)>,\n",
       " <tf.Tensor: shape=(), dtype=string, numpy=b'dog'>)"
      ]
     },
     "execution_count": 30,
     "metadata": {},
     "output_type": "execute_result"
    }
   ],
   "source": [
    "process_image('images\\\\dog\\\\dog.121.jpg')"
   ]
  },
  {
   "cell_type": "code",
   "execution_count": 31,
   "id": "845ad0d8",
   "metadata": {},
   "outputs": [],
   "source": [
    "train_set=train_set.map(process_image)"
   ]
  },
  {
   "cell_type": "code",
   "execution_count": 32,
   "id": "416a2bda",
   "metadata": {},
   "outputs": [],
   "source": [
    "def scale_image(image, label):\n",
    "    return image/255, label\n",
    "    "
   ]
  },
  {
   "cell_type": "code",
   "execution_count": 36,
   "id": "7694342c",
   "metadata": {},
   "outputs": [],
   "source": [
    "train_set=train_set.map(scale_image)"
   ]
  },
  {
   "cell_type": "code",
   "execution_count": null,
   "id": "77ac51b6",
   "metadata": {},
   "outputs": [],
   "source": []
  }
 ],
 "metadata": {
  "kernelspec": {
   "display_name": "Python 3 (ipykernel)",
   "language": "python",
   "name": "python3"
  },
  "language_info": {
   "codemirror_mode": {
    "name": "ipython",
    "version": 3
   },
   "file_extension": ".py",
   "mimetype": "text/x-python",
   "name": "python",
   "nbconvert_exporter": "python",
   "pygments_lexer": "ipython3",
   "version": "3.10.5"
  }
 },
 "nbformat": 4,
 "nbformat_minor": 5
}
