{
 "cells": [
  {
   "cell_type": "code",
   "execution_count": null,
   "id": "c8dabc73",
   "metadata": {},
   "outputs": [],
   "source": [
    "import numpy as np\n",
    "import pandas as pd\n",
    "import tensorflow  as tf"
   ]
  },
  {
   "cell_type": "code",
   "execution_count": null,
   "id": "981a35ee",
   "metadata": {},
   "outputs": [],
   "source": [
    "images_ds=tf.data.Dataset.list_files(\"images/*/*\", shuffle=False)"
   ]
  },
  {
   "cell_type": "code",
   "execution_count": null,
   "id": "6528bdd3",
   "metadata": {},
   "outputs": [],
   "source": [
    "for i in images_ds.take(5):\n",
    "    print(i.numpy())"
   ]
  },
  {
   "cell_type": "code",
   "execution_count": null,
   "id": "036ba1c0",
   "metadata": {},
   "outputs": [],
   "source": [
    "image_count=len(images_ds)\n",
    "image_count"
   ]
  },
  {
   "cell_type": "code",
   "execution_count": null,
   "id": "0a85eca4",
   "metadata": {},
   "outputs": [],
   "source": [
    "images_ds=images_ds.shuffle(image_count)\n",
    "for i in images_ds.take(5):\n",
    "    print(i.numpy())"
   ]
  },
  {
   "cell_type": "code",
   "execution_count": null,
   "id": "bc1c896b",
   "metadata": {},
   "outputs": [],
   "source": [
    "class_names=[\"cat\", \"dog\"]"
   ]
  },
  {
   "cell_type": "code",
   "execution_count": null,
   "id": "f6e2a847",
   "metadata": {},
   "outputs": [],
   "source": [
    "train_size=int(image_count*0.8)"
   ]
  },
  {
   "cell_type": "code",
   "execution_count": null,
   "id": "96b19d1f",
   "metadata": {},
   "outputs": [],
   "source": [
    "train_set=images_ds.take(train_size)\n",
    "test_set=images_ds.skip(train_size)"
   ]
  },
  {
   "cell_type": "code",
   "execution_count": null,
   "id": "84e42a44",
   "metadata": {},
   "outputs": [],
   "source": [
    "len(train_set)"
   ]
  },
  {
   "cell_type": "code",
   "execution_count": null,
   "id": "8359d027",
   "metadata": {},
   "outputs": [],
   "source": [
    "len(test_set)"
   ]
  },
  {
   "cell_type": "code",
   "execution_count": null,
   "id": "4cd8f1e6",
   "metadata": {},
   "outputs": [],
   "source": [
    "import os\n",
    "def get_label(file_path):\n",
    "#     s=file_path.split(\"\\\\\")[-2]\n",
    "\n",
    "    s=tf.strings.split(file_path, os.path.sep)[-2]\n",
    "    return s"
   ]
  },
  {
   "cell_type": "code",
   "execution_count": null,
   "id": "cc5f471a",
   "metadata": {},
   "outputs": [],
   "source": [
    "print(get_label('images\\\\dog\\\\dog.121.jpg').numpy())"
   ]
  },
  {
   "cell_type": "code",
   "execution_count": null,
   "id": "768f697b",
   "metadata": {},
   "outputs": [],
   "source": [
    "def process_image(file_path):\n",
    "    label=get_label(file_path)\n",
    "    img=tf.io.read_file(file_path)\n",
    "    img=tf.image.decode_jpeg(img)\n",
    "    img=tf.image.resize(img, [128,128])\n",
    "    return img, label\n"
   ]
  },
  {
   "cell_type": "code",
   "execution_count": null,
   "id": "a77d138c",
   "metadata": {},
   "outputs": [],
   "source": [
    "process_image('images\\\\dog\\\\dog.121.jpg')"
   ]
  },
  {
   "cell_type": "code",
   "execution_count": null,
   "id": "150d9bf0",
   "metadata": {},
   "outputs": [],
   "source": [
    "train_set=train_set.map(process_image)"
   ]
  },
  {
   "cell_type": "code",
   "execution_count": null,
   "id": "e22faf3b",
   "metadata": {},
   "outputs": [],
   "source": [
    "def scale_image(image, label):\n",
    "    return image/255, label\n",
    "    "
   ]
  },
  {
   "cell_type": "code",
   "execution_count": null,
   "id": "1275905c",
   "metadata": {},
   "outputs": [],
   "source": [
    "train_set=train_set.map(scale_image)"
   ]
  },
  {
   "cell_type": "code",
   "execution_count": null,
   "id": "5bb0f0e4",
   "metadata": {},
   "outputs": [],
   "source": [
    "test_set=test_set.map(process_image).map(scale_image)"
   ]
  },
  {
   "cell_type": "code",
   "execution_count": null,
   "id": "06e46272",
   "metadata": {},
   "outputs": [],
   "source": [
    "for img, label in test_set.take(3):\n",
    "    print(\"Image:\",img)\n",
    "    print(\"Label: \", label)\n",
    "    "
   ]
  },
  {
   "cell_type": "code",
   "execution_count": null,
   "id": "c775d277",
   "metadata": {},
   "outputs": [],
   "source": [
    "from tensorflow import keras\n",
    "from tensorflow.keras import models, layers"
   ]
  },
  {
   "cell_type": "code",
   "execution_count": null,
   "id": "57c679e5",
   "metadata": {},
   "outputs": [],
   "source": [
    "cnn=models.Sequential([\n",
    "    layers.Conv2D(filters=32, kernel_size=3, input_shape=(128, 128, 3), activation=\"relu\"),\n",
    "    layers.MaxPool2D(pool_size=2, strides=2),\n",
    "    layers.Conv2D(filters=32, kernel_size=3, activation=\"relu\"),\n",
    "    layers.MaxPool2D(pool_size=2, strides=2),\n",
    "    layers.Flatten(),\n",
    "    layers.Dense(units=100, activation=\"relu\"),\n",
    "    layers.Dropout(0.5),\n",
    "    layers.Dense(units=50, activation=\"relu\"),\n",
    "    layers.Dropout(0.5),\n",
    "    layers.Dense(units=1, activation=\"sigmoid\")\n",
    "])"
   ]
  },
  {
   "cell_type": "code",
   "execution_count": null,
   "id": "0f9ddb9c",
   "metadata": {},
   "outputs": [],
   "source": [
    "cnn.compile(optimizer=\"adam\", loss=\"binary_crossentropy\", metrics=[\"accuracy\"])"
   ]
  },
  {
   "cell_type": "code",
   "execution_count": null,
   "id": "c307cc7a",
   "metadata": {},
   "outputs": [],
   "source": [
    "def classifier(text):\n",
    "    if b'cat' in text:\n",
    "        return 0\n",
    "    else:\n",
    "        return 1"
   ]
  },
  {
   "cell_type": "code",
   "execution_count": null,
   "id": "cf561751",
   "metadata": {},
   "outputs": [],
   "source": [
    "x_train, y_train=[], []\n",
    "for img , label in train_set:\n",
    "    x_train.append(img)\n",
    "    y_train.append(classifier(label.numpy()))"
   ]
  },
  {
   "cell_type": "code",
   "execution_count": null,
   "id": "07a8cec2",
   "metadata": {},
   "outputs": [],
   "source": [
    "y_train[:5]"
   ]
  },
  {
   "cell_type": "code",
   "execution_count": null,
   "id": "73bf1468",
   "metadata": {},
   "outputs": [],
   "source": [
    "x_test, y_test=[],[]\n",
    "for img , label in test_set:\n",
    "    x_test.append(img)\n",
    "    y_test.append(classifier(label.numpy()))"
   ]
  },
  {
   "cell_type": "code",
   "execution_count": null,
   "id": "80b9dec1",
   "metadata": {},
   "outputs": [],
   "source": [
    "y_test[:5]"
   ]
  },
  {
   "cell_type": "code",
   "execution_count": null,
   "id": "f6b50861",
   "metadata": {},
   "outputs": [],
   "source": [
    "x_train=np.asarray(x_train)\n",
    "x_test=np.asarray(x_test)\n",
    "y_train=np.asarray(y_train)\n",
    "y_test=np.asarray(y_test)"
   ]
  },
  {
   "cell_type": "code",
   "execution_count": null,
   "id": "cc85be27",
   "metadata": {},
   "outputs": [],
   "source": [
    "cnn.fit(x_train, y_train , epochs=15)"
   ]
  },
  {
   "cell_type": "code",
   "execution_count": null,
   "id": "dc0a5a7f",
   "metadata": {},
   "outputs": [],
   "source": []
  }
 ],
 "metadata": {
  "kernelspec": {
   "display_name": "Python 3 (ipykernel)",
   "language": "python",
   "name": "python3"
  },
  "language_info": {
   "codemirror_mode": {
    "name": "ipython",
    "version": 3
   },
   "file_extension": ".py",
   "mimetype": "text/x-python",
   "name": "python",
   "nbconvert_exporter": "python",
   "pygments_lexer": "ipython3",
   "version": "3.10.5"
  }
 },
 "nbformat": 4,
 "nbformat_minor": 5
}
