{
 "cells": [
  {
   "cell_type": "code",
   "execution_count": 1,
   "id": "c8dabc73",
   "metadata": {},
   "outputs": [],
   "source": [
    "import numpy as np\n",
    "import pandas as pd\n",
    "import tensorflow  as tf"
   ]
  },
  {
   "cell_type": "code",
   "execution_count": 2,
   "id": "981a35ee",
   "metadata": {},
   "outputs": [],
   "source": [
    "images_ds=tf.data.Dataset.list_files(\"images/*/*\", shuffle=False)"
   ]
  },
  {
   "cell_type": "code",
   "execution_count": 3,
   "id": "6528bdd3",
   "metadata": {},
   "outputs": [
    {
     "name": "stdout",
     "output_type": "stream",
     "text": [
      "b'images\\\\cat\\\\cat.1.jpg'\n",
      "b'images\\\\cat\\\\cat.10.jpg'\n",
      "b'images\\\\cat\\\\cat.100.jpg'\n",
      "b'images\\\\cat\\\\cat.101.jpg'\n",
      "b'images\\\\cat\\\\cat.102.jpg'\n"
     ]
    }
   ],
   "source": [
    "for i in images_ds.take(5):\n",
    "    print(i.numpy())"
   ]
  },
  {
   "cell_type": "code",
   "execution_count": 4,
   "id": "036ba1c0",
   "metadata": {},
   "outputs": [
    {
     "data": {
      "text/plain": [
       "360"
      ]
     },
     "execution_count": 4,
     "metadata": {},
     "output_type": "execute_result"
    }
   ],
   "source": [
    "image_count=len(images_ds)\n",
    "image_count"
   ]
  },
  {
   "cell_type": "code",
   "execution_count": 5,
   "id": "0a85eca4",
   "metadata": {},
   "outputs": [
    {
     "name": "stdout",
     "output_type": "stream",
     "text": [
      "b'images\\\\cat\\\\cat.143.jpg'\n",
      "b'images\\\\cat\\\\cat.152.jpg'\n",
      "b'images\\\\dog\\\\dog.14.jpg'\n",
      "b'images\\\\cat\\\\cat.139.jpg'\n",
      "b'images\\\\cat\\\\cat.51.jpg'\n"
     ]
    }
   ],
   "source": [
    "images_ds=images_ds.shuffle(image_count)\n",
    "for i in images_ds.take(5):\n",
    "    print(i.numpy())"
   ]
  },
  {
   "cell_type": "code",
   "execution_count": 6,
   "id": "bc1c896b",
   "metadata": {},
   "outputs": [],
   "source": [
    "class_names=[\"cat\", \"dog\"]"
   ]
  },
  {
   "cell_type": "code",
   "execution_count": 7,
   "id": "f6e2a847",
   "metadata": {},
   "outputs": [],
   "source": [
    "train_size=int(image_count*0.8)"
   ]
  },
  {
   "cell_type": "code",
   "execution_count": 8,
   "id": "96b19d1f",
   "metadata": {},
   "outputs": [],
   "source": [
    "train_set=images_ds.take(train_size)\n",
    "test_set=images_ds.skip(train_size)"
   ]
  },
  {
   "cell_type": "code",
   "execution_count": 9,
   "id": "84e42a44",
   "metadata": {},
   "outputs": [
    {
     "data": {
      "text/plain": [
       "288"
      ]
     },
     "execution_count": 9,
     "metadata": {},
     "output_type": "execute_result"
    }
   ],
   "source": [
    "len(train_set)"
   ]
  },
  {
   "cell_type": "code",
   "execution_count": 10,
   "id": "8359d027",
   "metadata": {},
   "outputs": [
    {
     "data": {
      "text/plain": [
       "72"
      ]
     },
     "execution_count": 10,
     "metadata": {},
     "output_type": "execute_result"
    }
   ],
   "source": [
    "len(test_set)"
   ]
  },
  {
   "cell_type": "code",
   "execution_count": 11,
   "id": "4cd8f1e6",
   "metadata": {},
   "outputs": [],
   "source": [
    "import os\n",
    "def get_label(file_path):\n",
    "#     s=file_path.split(\"\\\\\")[-2]\n",
    "\n",
    "    s=tf.strings.split(file_path, os.path.sep)[-2]\n",
    "    return s"
   ]
  },
  {
   "cell_type": "code",
   "execution_count": 12,
   "id": "cc5f471a",
   "metadata": {},
   "outputs": [
    {
     "name": "stdout",
     "output_type": "stream",
     "text": [
      "b'dog'\n"
     ]
    }
   ],
   "source": [
    "print(get_label('images\\\\dog\\\\dog.121.jpg').numpy())"
   ]
  },
  {
   "cell_type": "code",
   "execution_count": 13,
   "id": "768f697b",
   "metadata": {},
   "outputs": [],
   "source": [
    "def process_image(file_path):\n",
    "    label=get_label(file_path)\n",
    "    img=tf.io.read_file(file_path)\n",
    "    img=tf.image.decode_jpeg(img)\n",
    "    img=tf.image.resize(img, [128,128])\n",
    "    return img, label\n"
   ]
  },
  {
   "cell_type": "code",
   "execution_count": 14,
   "id": "a77d138c",
   "metadata": {},
   "outputs": [
    {
     "data": {
      "text/plain": [
       "(<tf.Tensor: shape=(128, 128, 3), dtype=float32, numpy=\n",
       " array([[[136.89307 , 133.34619 , 119.98682 ],\n",
       "         [104.057495,  97.057495,  78.987305],\n",
       "         [135.97119 , 133.39868 , 114.71619 ],\n",
       "         ...,\n",
       "         [162.76343 , 169.5603  , 167.0503  ],\n",
       "         [175.8822  , 179.47583 , 186.1637  ],\n",
       "         [172.91125 , 186.03113 , 186.22644 ]],\n",
       " \n",
       "        [[ 97.51538 , 100.53088 ,  86.6637  ],\n",
       "         [ 97.07556 ,  94.90369 ,  76.770874],\n",
       "         [144.98193 , 144.51318 , 125.04443 ],\n",
       "         ...,\n",
       "         [164.13696 , 170.87854 , 160.14722 ],\n",
       "         [177.34521 , 181.51709 , 174.72803 ],\n",
       "         [172.65674 , 181.24268 , 173.7583  ]],\n",
       " \n",
       "        [[127.70068 , 138.74756 , 123.79224 ],\n",
       "         [141.85046 , 144.17859 , 125.49768 ],\n",
       "         [157.34875 , 156.34875 , 135.60815 ],\n",
       "         ...,\n",
       "         [133.74695 , 138.71729 , 117.2251  ],\n",
       "         [140.15503 , 144.13159 , 120.99097 ],\n",
       "         [128.50879 , 131.4469  , 114.3916  ]],\n",
       " \n",
       "        ...,\n",
       " \n",
       "        [[160.81677 , 144.81677 , 111.793335],\n",
       "         [131.46729 , 114.71008 ,  78.64636 ],\n",
       "         [145.36096 , 130.31409 ,  87.31409 ],\n",
       "         ...,\n",
       "         [120.13147 , 109.13147 , 103.13147 ],\n",
       "         [118.9032  , 108.9032  ,  99.9032  ],\n",
       "         [124.93555 , 110.94617 , 107.91431 ]],\n",
       " \n",
       "        [[118.24817 , 103.83411 ,  69.66223 ],\n",
       "         [143.94714 , 132.70496 ,  97.970215],\n",
       "         [170.49951 , 157.62573 , 117.39856 ],\n",
       "         ...,\n",
       "         [120.36658 , 109.36658 , 103.36658 ],\n",
       "         [120.25    , 110.25    , 101.25    ],\n",
       "         [108.99939 ,  95.77295 ,  89.921265]],\n",
       " \n",
       "        [[174.41394 , 162.276   , 118.38269 ],\n",
       "         [146.95251 , 141.95251 , 102.42102 ],\n",
       "         [135.89697 , 126.38696 ,  85.509155],\n",
       "         ...,\n",
       "         [109.5625  ,  98.5625  ,  92.5625  ],\n",
       "         [109.09363 ,  99.09363 ,  90.09363 ],\n",
       "         [112.90906 , 100.468994,  89.789185]]], dtype=float32)>,\n",
       " <tf.Tensor: shape=(), dtype=string, numpy=b'dog'>)"
      ]
     },
     "execution_count": 14,
     "metadata": {},
     "output_type": "execute_result"
    }
   ],
   "source": [
    "process_image('images\\\\dog\\\\dog.121.jpg')"
   ]
  },
  {
   "cell_type": "code",
   "execution_count": 15,
   "id": "150d9bf0",
   "metadata": {},
   "outputs": [],
   "source": [
    "train_set=train_set.map(process_image)"
   ]
  },
  {
   "cell_type": "code",
   "execution_count": 16,
   "id": "e22faf3b",
   "metadata": {},
   "outputs": [],
   "source": [
    "def scale_image(image, label):\n",
    "    return image/255, label\n",
    "    "
   ]
  },
  {
   "cell_type": "code",
   "execution_count": 17,
   "id": "1275905c",
   "metadata": {},
   "outputs": [],
   "source": [
    "train_set=train_set.map(scale_image)"
   ]
  },
  {
   "cell_type": "code",
   "execution_count": 18,
   "id": "5bb0f0e4",
   "metadata": {},
   "outputs": [],
   "source": [
    "test_set=test_set.map(process_image).map(scale_image)"
   ]
  },
  {
   "cell_type": "code",
   "execution_count": 19,
   "id": "06e46272",
   "metadata": {},
   "outputs": [
    {
     "name": "stdout",
     "output_type": "stream",
     "text": [
      "Image: tf.Tensor(\n",
      "[[[0.6925551  0.6611826  0.61804533]\n",
      "  [0.6525873  0.62121475 0.5780775 ]\n",
      "  [0.6389096  0.60753703 0.5643998 ]\n",
      "  ...\n",
      "  [0.56640375 0.5507175  0.50365865]\n",
      "  [0.52737284 0.51168656 0.46462774]\n",
      "  [0.61489534 0.5992091  0.55215025]]\n",
      "\n",
      " [[0.70982987 0.6784573  0.63532007]\n",
      "  [0.6197997  0.5884271  0.5452899 ]\n",
      "  [0.6501911  0.6188186  0.5756813 ]\n",
      "  ...\n",
      "  [0.59876674 0.5830805  0.53602165]\n",
      "  [0.5948483  0.579162   0.5321032 ]\n",
      "  [0.60761493 0.59192866 0.54486984]]\n",
      "\n",
      " [[0.6977331  0.66636056 0.6232233 ]\n",
      "  [0.6591379  0.62776536 0.5846281 ]\n",
      "  [0.6944032  0.6630306  0.6198934 ]\n",
      "  ...\n",
      "  [0.541136   0.52544975 0.47839093]\n",
      "  [0.59126836 0.5755821  0.52852327]\n",
      "  [0.5591452  0.54345894 0.49640012]]\n",
      "\n",
      " ...\n",
      "\n",
      " [[0.44311166 0.40389594 0.36468026]\n",
      "  [0.4174703  0.37825462 0.33903894]\n",
      "  [0.3456531  0.3064374  0.26722172]\n",
      "  ...\n",
      "  [0.4080297  0.34114859 0.33701256]\n",
      "  [0.3616419  0.3215149  0.3004056 ]\n",
      "  [0.3603554  0.32092524 0.29924938]]\n",
      "\n",
      " [[0.392235   0.35171568 0.3203325 ]\n",
      "  [0.38238358 0.3394348  0.31533992]\n",
      "  [0.39990008 0.35912943 0.32850018]\n",
      "  ...\n",
      "  [0.39221814 0.3410386  0.3280331 ]\n",
      "  [0.37620884 0.3368047  0.33020234]\n",
      "  [0.39715073 0.35793504 0.35133272]]\n",
      "\n",
      " [[0.36494535 0.3218081  0.2982787 ]\n",
      "  [0.3662515  0.32311425 0.29958484]\n",
      "  [0.4115299  0.36839265 0.34486324]\n",
      "  ...\n",
      "  [0.38695103 0.34381378 0.3281275 ]\n",
      "  [0.34981772 0.31060204 0.30668047]\n",
      "  [0.38104522 0.34182954 0.33790797]]], shape=(128, 128, 3), dtype=float32)\n",
      "Label:  tf.Tensor(b'cat', shape=(), dtype=string)\n",
      "Image: tf.Tensor(\n",
      "[[[0.05390625 0.08135723 0.05390625]\n",
      "  [0.05490196 0.08235294 0.05490196]\n",
      "  [0.05203738 0.07948836 0.05203738]\n",
      "  ...\n",
      "  [0.07795362 0.07795362 0.07795362]\n",
      "  [0.1039321  0.1039321  0.1039321 ]\n",
      "  [0.08239698 0.08239698 0.08239698]]\n",
      "\n",
      " [[0.05490196 0.08235294 0.05490196]\n",
      "  [0.05490196 0.08235294 0.05490196]\n",
      "  [0.05702263 0.08447362 0.05702263]\n",
      "  ...\n",
      "  [0.08594421 0.08594421 0.08594421]\n",
      "  [0.08230699 0.08230699 0.08230699]\n",
      "  [0.07461129 0.07461129 0.07461129]]\n",
      "\n",
      " [[0.05589767 0.08334865 0.05589767]\n",
      "  [0.05191483 0.07936581 0.05191483]\n",
      "  [0.06528799 0.09273897 0.06528799]\n",
      "  ...\n",
      "  [0.1022978  0.1022978  0.1022978 ]\n",
      "  [0.08275122 0.08275122 0.08275122]\n",
      "  [0.08698204 0.08698204 0.08698204]]\n",
      "\n",
      " ...\n",
      "\n",
      " [[0.0597302  0.05580863 0.04796549]\n",
      "  [0.02614028 0.02221871 0.01437557]\n",
      "  [0.01643689 0.01251532 0.        ]\n",
      "  ...\n",
      "  [0.0475787  0.06718654 0.04365713]\n",
      "  [0.04892769 0.06853554 0.04500613]\n",
      "  [0.02837297 0.04798082 0.0244514 ]]\n",
      "\n",
      " [[0.08944546 0.07375919 0.06983762]\n",
      "  [0.03472828 0.03080672 0.02296358]\n",
      "  [0.01824448 0.01432292 0.        ]\n",
      "  ...\n",
      "  [0.05203738 0.07164522 0.04811581]\n",
      "  [0.05490292 0.07451076 0.05098135]\n",
      "  [0.03475318 0.05436102 0.03083161]]\n",
      "\n",
      " [[0.10217524 0.08648897 0.0825674 ]\n",
      "  [0.04536899 0.03248602 0.02856445]\n",
      "  [0.01985581 0.01593425 0.00161133]\n",
      "  ...\n",
      "  [0.04083946 0.06044731 0.03691789]\n",
      "  [0.04918332 0.06879117 0.04526176]\n",
      "  [0.0402114  0.05981924 0.03628983]]], shape=(128, 128, 3), dtype=float32)\n",
      "Label:  tf.Tensor(b'dog', shape=(), dtype=string)\n",
      "Image: tf.Tensor(\n",
      "[[[0.6271753  0.52481616 0.6960018 ]\n",
      "  [0.63567907 0.55452096 0.6958659 ]\n",
      "  [0.7350303  0.5948189  0.7380481 ]\n",
      "  ...\n",
      "  [0.06030399 0.05638242 0.04069615]\n",
      "  [0.06842436 0.07234593 0.04881652]\n",
      "  [0.0830576  0.07913603 0.06344976]]\n",
      "\n",
      " [[0.64664525 0.54428613 0.7154718 ]\n",
      "  [0.6351928  0.5540347  0.6953797 ]\n",
      "  [0.6819155  0.5417041  0.6849333 ]\n",
      "  ...\n",
      "  [0.08460921 0.06985839 0.05778186]\n",
      "  [0.09533721 0.09224285 0.07222141]\n",
      "  [0.09971092 0.08402465 0.07225994]]\n",
      "\n",
      " [[0.64880186 0.5464428  0.7176284 ]\n",
      "  [0.6469877  0.5658296  0.70717454]\n",
      "  [0.7614651  0.62125367 0.76448286]\n",
      "  ...\n",
      "  [0.07927162 0.06018348 0.04841877]\n",
      "  [0.11818321 0.11201423 0.09240639]\n",
      "  [0.09936535 0.08006717 0.06830247]]\n",
      "\n",
      " ...\n",
      "\n",
      " [[0.4939742  0.41069227 0.53394926]\n",
      "  [0.6791411  0.58105695 0.68682665]\n",
      "  [0.5198671  0.42925745 0.45253834]\n",
      "  ...\n",
      "  [0.06800053 0.05231425 0.05623582]\n",
      "  [0.06662173 0.05093545 0.05485702]\n",
      "  [0.0841113  0.06842501 0.07234658]]\n",
      "\n",
      " [[0.47196344 0.37864235 0.51805717]\n",
      "  [0.64504313 0.5313176  0.63294137]\n",
      "  [0.62026006 0.5211945  0.51836056]\n",
      "  ...\n",
      "  [0.06495098 0.04926471 0.05318628]\n",
      "  [0.03872549 0.02303922 0.02696078]\n",
      "  [0.05788909 0.04220282 0.04612439]]\n",
      "\n",
      " [[0.45986125 0.36654016 0.505955  ]\n",
      "  [0.57188886 0.45816338 0.55978715]\n",
      "  [0.5868775  0.48781192 0.484978  ]\n",
      "  ...\n",
      "  [0.04578409 0.03009781 0.03401938]\n",
      "  [0.0650755  0.04938923 0.0533108 ]\n",
      "  [0.05232843 0.03664216 0.04056372]]], shape=(128, 128, 3), dtype=float32)\n",
      "Label:  tf.Tensor(b'cat', shape=(), dtype=string)\n"
     ]
    }
   ],
   "source": [
    "for img, label in test_set.take(3):\n",
    "    print(\"Image:\",img)\n",
    "    print(\"Label: \", label)\n",
    "    "
   ]
  },
  {
   "cell_type": "code",
   "execution_count": 20,
   "id": "da4d63f1",
   "metadata": {},
   "outputs": [],
   "source": [
    "from tensorflow import keras\n",
    "from tensorflow.keras import models, layers"
   ]
  },
  {
   "cell_type": "code",
   "execution_count": 61,
   "id": "89c04270",
   "metadata": {},
   "outputs": [],
   "source": [
    "cnn=models.Sequential([\n",
    "    layers.Conv2D(filters=32, kernel_size=3, input_shape=(128, 128, 3), activation=\"relu\"),\n",
    "    layers.MaxPool2D(pool_size=2, strides=2),\n",
    "    layers.Conv2D(filters=32, kernel_size=3, activation=\"relu\"),\n",
    "    layers.MaxPool2D(pool_size=2, strides=2),\n",
    "    layers.Flatten(),\n",
    "    layers.Dense(units=128, activation=\"relu\"),\n",
    "    layers.Dense(units=64, activation=\"relu\"),\n",
    "    layers.Dense(units=1, activation=\"sigmoid\")\n",
    "])"
   ]
  },
  {
   "cell_type": "code",
   "execution_count": 62,
   "id": "74071b69",
   "metadata": {},
   "outputs": [],
   "source": [
    "cnn.compile(optimizer=\"adam\", loss=\"binary_crossentropy\", metrics=[\"accuracy\"])"
   ]
  },
  {
   "cell_type": "code",
   "execution_count": 63,
   "id": "f214ac87",
   "metadata": {},
   "outputs": [],
   "source": [
    "def classifier(text):\n",
    "    if b'cat' in text:\n",
    "        return 0\n",
    "    else:\n",
    "        return 1"
   ]
  },
  {
   "cell_type": "code",
   "execution_count": 64,
   "id": "ffce2687",
   "metadata": {},
   "outputs": [],
   "source": [
    "x_train, y_train=[], []\n",
    "for img , label in train_set:\n",
    "    x_train.append(img)\n",
    "    y_train.append(classifier(label.numpy()))"
   ]
  },
  {
   "cell_type": "code",
   "execution_count": 65,
   "id": "7fd290b2",
   "metadata": {},
   "outputs": [
    {
     "data": {
      "text/plain": [
       "[0, 1, 1, 0, 0]"
      ]
     },
     "execution_count": 65,
     "metadata": {},
     "output_type": "execute_result"
    }
   ],
   "source": [
    "y_train[:5]"
   ]
  },
  {
   "cell_type": "code",
   "execution_count": 66,
   "id": "197ac3f7",
   "metadata": {},
   "outputs": [],
   "source": [
    "x_test, y_test=[],[]\n",
    "for img , label in test_set:\n",
    "    x_test.append(img)\n",
    "    y_test.append(classifier(label.numpy()))"
   ]
  },
  {
   "cell_type": "code",
   "execution_count": 67,
   "id": "523856ab",
   "metadata": {},
   "outputs": [
    {
     "data": {
      "text/plain": [
       "[0, 1, 0, 0, 0]"
      ]
     },
     "execution_count": 67,
     "metadata": {},
     "output_type": "execute_result"
    }
   ],
   "source": [
    "y_test[:5]"
   ]
  },
  {
   "cell_type": "code",
   "execution_count": 68,
   "id": "3a99926e",
   "metadata": {},
   "outputs": [],
   "source": [
    "x_train=np.asarray(x_train)\n",
    "x_test=np.asarray(x_test)\n",
    "y_train=np.asarray(y_train)\n",
    "y_test=np.asarray(y_test)"
   ]
  },
  {
   "cell_type": "code",
   "execution_count": 69,
   "id": "aab9f92c",
   "metadata": {},
   "outputs": [
    {
     "name": "stdout",
     "output_type": "stream",
     "text": [
      "Epoch 1/25\n",
      "9/9 [==============================] - 4s 336ms/step - loss: 0.7066 - accuracy: 0.5694\n",
      "Epoch 2/25\n",
      "9/9 [==============================] - 3s 331ms/step - loss: 0.6399 - accuracy: 0.6458\n",
      "Epoch 3/25\n",
      "9/9 [==============================] - 3s 328ms/step - loss: 0.5648 - accuracy: 0.7153\n",
      "Epoch 4/25\n",
      "9/9 [==============================] - 3s 326ms/step - loss: 0.4632 - accuracy: 0.8021\n",
      "Epoch 5/25\n",
      "9/9 [==============================] - 3s 334ms/step - loss: 0.3354 - accuracy: 0.8958\n",
      "Epoch 6/25\n",
      "9/9 [==============================] - 3s 333ms/step - loss: 0.2095 - accuracy: 0.9688\n",
      "Epoch 7/25\n",
      "9/9 [==============================] - 3s 320ms/step - loss: 0.1121 - accuracy: 0.9826\n",
      "Epoch 8/25\n",
      "9/9 [==============================] - 3s 370ms/step - loss: 0.0600 - accuracy: 0.9931\n",
      "Epoch 9/25\n",
      "9/9 [==============================] - 3s 353ms/step - loss: 0.0366 - accuracy: 0.9965\n",
      "Epoch 10/25\n",
      "9/9 [==============================] - 3s 383ms/step - loss: 0.0187 - accuracy: 1.0000\n",
      "Epoch 11/25\n",
      "9/9 [==============================] - 3s 395ms/step - loss: 0.0088 - accuracy: 1.0000\n",
      "Epoch 12/25\n",
      "9/9 [==============================] - 4s 401ms/step - loss: 0.0050 - accuracy: 1.0000\n",
      "Epoch 13/25\n",
      "9/9 [==============================] - 4s 398ms/step - loss: 0.0028 - accuracy: 1.0000\n",
      "Epoch 14/25\n",
      "9/9 [==============================] - 4s 400ms/step - loss: 0.0019 - accuracy: 1.0000\n",
      "Epoch 15/25\n",
      "9/9 [==============================] - 4s 409ms/step - loss: 0.0013 - accuracy: 1.0000\n",
      "Epoch 16/25\n",
      "9/9 [==============================] - 3s 378ms/step - loss: 9.7729e-04 - accuracy: 1.0000\n",
      "Epoch 17/25\n",
      "9/9 [==============================] - 4s 390ms/step - loss: 8.4033e-04 - accuracy: 1.0000\n",
      "Epoch 18/25\n",
      "9/9 [==============================] - 4s 433ms/step - loss: 7.2951e-04 - accuracy: 1.0000\n",
      "Epoch 19/25\n",
      "9/9 [==============================] - 4s 421ms/step - loss: 6.4399e-04 - accuracy: 1.0000\n",
      "Epoch 20/25\n",
      "9/9 [==============================] - 4s 424ms/step - loss: 5.8340e-04 - accuracy: 1.0000\n",
      "Epoch 21/25\n",
      "9/9 [==============================] - 4s 431ms/step - loss: 5.1016e-04 - accuracy: 1.0000\n",
      "Epoch 22/25\n",
      "9/9 [==============================] - 4s 436ms/step - loss: 4.9177e-04 - accuracy: 1.0000\n",
      "Epoch 23/25\n",
      "9/9 [==============================] - 4s 455ms/step - loss: 4.3191e-04 - accuracy: 1.0000\n",
      "Epoch 24/25\n",
      "9/9 [==============================] - 5s 620ms/step - loss: 4.0386e-04 - accuracy: 1.0000\n",
      "Epoch 25/25\n",
      "9/9 [==============================] - 6s 653ms/step - loss: 3.7216e-04 - accuracy: 1.0000\n"
     ]
    },
    {
     "data": {
      "text/plain": [
       "<keras.callbacks.History at 0x1daf4e1a4d0>"
      ]
     },
     "execution_count": 69,
     "metadata": {},
     "output_type": "execute_result"
    }
   ],
   "source": [
    "cnn.fit(x_train, y_train , epochs=25)"
   ]
  },
  {
   "cell_type": "code",
   "execution_count": null,
   "id": "35ca7f5c",
   "metadata": {},
   "outputs": [],
   "source": []
  }
 ],
 "metadata": {
  "kernelspec": {
   "display_name": "Python 3 (ipykernel)",
   "language": "python",
   "name": "python3"
  },
  "language_info": {
   "codemirror_mode": {
    "name": "ipython",
    "version": 3
   },
   "file_extension": ".py",
   "mimetype": "text/x-python",
   "name": "python",
   "nbconvert_exporter": "python",
   "pygments_lexer": "ipython3",
   "version": "3.10.5"
  }
 },
 "nbformat": 4,
 "nbformat_minor": 5
}
