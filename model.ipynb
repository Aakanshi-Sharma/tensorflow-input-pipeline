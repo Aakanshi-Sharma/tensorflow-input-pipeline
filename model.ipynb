{
 "cells": [
  {
   "cell_type": "code",
   "execution_count": 1,
   "id": "c8dabc73",
   "metadata": {},
   "outputs": [],
   "source": [
    "import numpy as np\n",
    "import pandas as pd\n",
    "import tensorflow  as tf"
   ]
  },
  {
   "cell_type": "code",
   "execution_count": 2,
   "id": "80ad67d8",
   "metadata": {},
   "outputs": [],
   "source": [
    "images_ds=tf.data.Dataset.list_files(\"images/*/*\", shuffle=False)"
   ]
  },
  {
   "cell_type": "code",
   "execution_count": 6,
   "id": "09533b59",
   "metadata": {},
   "outputs": [
    {
     "name": "stdout",
     "output_type": "stream",
     "text": [
      "b'images\\\\cats\\\\cat.1.jpg'\n",
      "b'images\\\\cats\\\\cat.10.jpg'\n",
      "b'images\\\\cats\\\\cat.100.jpg'\n",
      "b'images\\\\cats\\\\cat.101.jpg'\n",
      "b'images\\\\cats\\\\cat.102.jpg'\n"
     ]
    }
   ],
   "source": [
    "for i in images_ds.take(5):\n",
    "    print(i.numpy())"
   ]
  },
  {
   "cell_type": "code",
   "execution_count": 7,
   "id": "4539c232",
   "metadata": {},
   "outputs": [
    {
     "name": "stdout",
     "output_type": "stream",
     "text": [
      "b'images\\\\cats\\\\cat.20.jpg'\n",
      "b'images\\\\cats\\\\cat.38.jpg'\n",
      "b'images\\\\cats\\\\cat.124.jpg'\n",
      "b'images\\\\cats\\\\cat.117.jpg'\n",
      "b'images\\\\cats\\\\cat.37.jpg'\n"
     ]
    }
   ],
   "source": [
    "images_ds=images_ds.shuffle(220)\n",
    "for i in images_ds.take(5):\n",
    "    print(i.numpy())"
   ]
  },
  {
   "cell_type": "code",
   "execution_count": 8,
   "id": "6dc33a17",
   "metadata": {},
   "outputs": [],
   "source": [
    "class_names=[\"cat\", \"dog\"]"
   ]
  },
  {
   "cell_type": "code",
   "execution_count": null,
   "id": "14ca469c",
   "metadata": {},
   "outputs": [],
   "source": []
  }
 ],
 "metadata": {
  "kernelspec": {
   "display_name": "Python 3 (ipykernel)",
   "language": "python",
   "name": "python3"
  },
  "language_info": {
   "codemirror_mode": {
    "name": "ipython",
    "version": 3
   },
   "file_extension": ".py",
   "mimetype": "text/x-python",
   "name": "python",
   "nbconvert_exporter": "python",
   "pygments_lexer": "ipython3",
   "version": "3.10.5"
  }
 },
 "nbformat": 4,
 "nbformat_minor": 5
}
