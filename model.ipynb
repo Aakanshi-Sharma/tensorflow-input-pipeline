{
 "cells": [
  {
   "cell_type": "code",
   "execution_count": 1,
   "id": "c8dabc73",
   "metadata": {},
   "outputs": [],
   "source": [
    "import numpy as np\n",
    "import pandas as pd\n",
    "import tensorflow  as tf"
   ]
  },
  {
   "cell_type": "code",
   "execution_count": 11,
   "id": "5a56d5ec",
   "metadata": {},
   "outputs": [],
   "source": [
    "images_ds=tf.data.Dataset.list_files(\"images/*/*\", shuffle=False)"
   ]
  },
  {
   "cell_type": "code",
   "execution_count": 12,
   "id": "2213d880",
   "metadata": {},
   "outputs": [
    {
     "name": "stdout",
     "output_type": "stream",
     "text": [
      "b'images\\\\cats\\\\cat.1.jpg'\n",
      "b'images\\\\cats\\\\cat.10.jpg'\n",
      "b'images\\\\cats\\\\cat.100.jpg'\n",
      "b'images\\\\cats\\\\cat.101.jpg'\n",
      "b'images\\\\cats\\\\cat.102.jpg'\n"
     ]
    }
   ],
   "source": [
    "for i in images_ds.take(5):\n",
    "    print(i.numpy())"
   ]
  },
  {
   "cell_type": "code",
   "execution_count": 13,
   "id": "2f76cde7",
   "metadata": {},
   "outputs": [
    {
     "data": {
      "text/plain": [
       "360"
      ]
     },
     "execution_count": 13,
     "metadata": {},
     "output_type": "execute_result"
    }
   ],
   "source": [
    "image_count=len(images_ds)\n",
    "image_count"
   ]
  },
  {
   "cell_type": "code",
   "execution_count": 14,
   "id": "be8c18da",
   "metadata": {},
   "outputs": [
    {
     "name": "stdout",
     "output_type": "stream",
     "text": [
      "b'images\\\\dogs\\\\dog.176.jpg'\n",
      "b'images\\\\dogs\\\\dog.144.jpg'\n",
      "b'images\\\\cats\\\\cat.159.jpg'\n",
      "b'images\\\\dogs\\\\dog.121.jpg'\n",
      "b'images\\\\dogs\\\\dog.59.jpg'\n"
     ]
    }
   ],
   "source": [
    "images_ds=images_ds.shuffle(image_count)\n",
    "for i in images_ds.take(5):\n",
    "    print(i.numpy())"
   ]
  },
  {
   "cell_type": "code",
   "execution_count": 15,
   "id": "1ddb6397",
   "metadata": {},
   "outputs": [],
   "source": [
    "class_names=[\"cat\", \"dog\"]"
   ]
  },
  {
   "cell_type": "code",
   "execution_count": 17,
   "id": "54ea1ce7",
   "metadata": {},
   "outputs": [],
   "source": [
    "train_size=int(image_count*0.8)"
   ]
  },
  {
   "cell_type": "code",
   "execution_count": 19,
   "id": "18bc00e3",
   "metadata": {},
   "outputs": [],
   "source": [
    "train_set=images_ds.take(train_size)\n",
    "test_set=images_ds.skip(train_size)"
   ]
  },
  {
   "cell_type": "code",
   "execution_count": 20,
   "id": "cf74fa80",
   "metadata": {},
   "outputs": [
    {
     "data": {
      "text/plain": [
       "288"
      ]
     },
     "execution_count": 20,
     "metadata": {},
     "output_type": "execute_result"
    }
   ],
   "source": [
    "len(train_set)"
   ]
  },
  {
   "cell_type": "code",
   "execution_count": 21,
   "id": "21e0c4f3",
   "metadata": {},
   "outputs": [
    {
     "data": {
      "text/plain": [
       "72"
      ]
     },
     "execution_count": 21,
     "metadata": {},
     "output_type": "execute_result"
    }
   ],
   "source": [
    "len(test_set)"
   ]
  },
  {
   "cell_type": "code",
   "execution_count": null,
   "id": "e361ff30",
   "metadata": {},
   "outputs": [],
   "source": []
  }
 ],
 "metadata": {
  "kernelspec": {
   "display_name": "Python 3 (ipykernel)",
   "language": "python",
   "name": "python3"
  },
  "language_info": {
   "codemirror_mode": {
    "name": "ipython",
    "version": 3
   },
   "file_extension": ".py",
   "mimetype": "text/x-python",
   "name": "python",
   "nbconvert_exporter": "python",
   "pygments_lexer": "ipython3",
   "version": "3.10.5"
  }
 },
 "nbformat": 4,
 "nbformat_minor": 5
}
